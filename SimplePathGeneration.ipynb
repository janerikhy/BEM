{
  "nbformat": 4,
  "nbformat_minor": 0,
  "metadata": {
    "colab": {
      "name": "SimplePathGeneration.ipynb",
      "provenance": [],
      "authorship_tag": "ABX9TyO0YjZY/1jfY+rL3ETqZ9XC",
      "include_colab_link": true
    },
    "kernelspec": {
      "name": "python3",
      "display_name": "Python 3"
    },
    "language_info": {
      "name": "python"
    }
  },
  "cells": [
    {
      "cell_type": "markdown",
      "metadata": {
        "id": "view-in-github",
        "colab_type": "text"
      },
      "source": [
        "<a href=\"https://colab.research.google.com/github/janerikhy/BEM/blob/main/SimplePathGeneration.ipynb\" target=\"_parent\"><img src=\"https://colab.research.google.com/assets/colab-badge.svg\" alt=\"Open In Colab\"/></a>"
      ]
    },
    {
      "cell_type": "code",
      "execution_count": 1,
      "metadata": {
        "id": "WKWf8nWW1C0n"
      },
      "outputs": [],
      "source": [
        "import numpy as np\n",
        "import matplotlib.pyplot as plt\n",
        "plt.style.use('seaborn-whitegrid')\n"
      ]
    },
    {
      "cell_type": "code",
      "source": [
        "t = np.arange(0, 50, 0.01)\n",
        "x0 = 1\n",
        "x1 = 5\n",
        "rate = 0.1\n",
        "t0 = 5\n",
        "\n",
        "xd = np.exp(-rate*(t - t0))*x0 + (1 - np.exp(-rate*(t - t0)))*x1\n",
        "xd = np.where(t > t0, xd, x0)\n",
        "\n",
        "xd_dot = -rate*np.exp(-rate*(t - t0))*x0 + rate*np.exp(-rate*(t - t0))*x1\n",
        "xd_dot = np.where(t > t0, xd_dot, 0)"
      ],
      "metadata": {
        "id": "QBR3ie3T1JxY"
      },
      "execution_count": 30,
      "outputs": []
    },
    {
      "cell_type": "code",
      "source": [
        "plt.plot(t, xd)\n",
        "plt.ylim([0, 6])\n",
        "plt.show()"
      ],
      "metadata": {
        "colab": {
          "base_uri": "https://localhost:8080/",
          "height": 266
        },
        "id": "ed154Iit18ne",
        "outputId": "a3f3233a-ee73-484c-dd53-6415fe68a968"
      },
      "execution_count": 31,
      "outputs": [
        {
          "output_type": "display_data",
          "data": {
            "image/png": "[encoded data removed]",
            "text/plain": [
              "<Figure size 432x288 with 1 Axes>"
            ]
          },
          "metadata": {
            "needs_background": "light"
          }
        }
      ]
    },
    {
      "cell_type": "code",
      "source": [
        "plt.plot(t, xd_dot)\n",
        "plt.show()"
      ],
      "metadata": {
        "colab": {
          "base_uri": "https://localhost:8080/",
          "height": 262
        },
        "id": "6Cf6gPzb1_fp",
        "outputId": "f47243f1-8bb8-4335-bdd6-2de327e58f08"
      },
      "execution_count": 32,
      "outputs": [
        {
          "output_type": "display_data",
          "data": {
            "image/png": "[encoded data removed]",
            "text/plain": [
              "<Figure size 432x288 with 1 Axes>"
            ]
          },
          "metadata": {
            "needs_background": "light"
          }
        }
      ]
    },
    {
      "cell_type": "code",
      "source": [
        ""
      ],
      "metadata": {
        "id": "LLAZMOPe2B2w"
      },
      "execution_count": 26,
      "outputs": []
    },
    {
      "cell_type": "code",
      "source": [
        ""
      ],
      "metadata": {
        "colab": {
          "base_uri": "https://localhost:8080/"
        },
        "id": "e259ez-v4EwV",
        "outputId": "7dfc25e4-c718-4c71-979f-1124374844b7"
      },
      "execution_count": 27,
      "outputs": [
        {
          "output_type": "execute_result",
          "data": {
            "text/plain": [
              "3.9535198852621014"
            ]
          },
          "metadata": {},
          "execution_count": 27
        }
      ]
    },
    {
      "cell_type": "code",
      "source": [
        ""
      ],
      "metadata": {
        "id": "5wI_8U-k4FXU"
      },
      "execution_count": null,
      "outputs": []
    }
  ]
}